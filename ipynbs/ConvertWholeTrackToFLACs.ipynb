{
 "cells": [
  {
   "cell_type": "code",
   "execution_count": null,
   "metadata": {
    "collapsed": true
   },
   "outputs": [],
   "source": [
    "WORKING_DIR = \"/path/to/your/folder/contains/music\"  # no '/' as end is ok\n",
    "FILENAME_PREFIX = \"your_music_file_name_without_ext\"\n",
    "\n",
    "OUTPUT_PREFIX = \"/path/to/your/music/output/files/\"  # ends with '/'\n",
    "\n",
    "PICTURE = \"Front.jpg\"\n",
    "ANSI_ENCODING = \"gbk\"\n",
    "\n",
    "FILES_TO_COPY = [\"Booklet.zip\"]\n",
    "\n",
    "DELETE_TARGET_DIR = False  # If clean the target folder at first\n",
    "\n",
    "EXTRA_DATA_FILE = \"%s.extra.ini\" % FILENAME_PREFIX\n",
    "INPUT_FILE = \"%s.flac\" % FILENAME_PREFIX\n",
    "ANSI_CUE = \"%s.cue\" % FILENAME_PREFIX\n",
    "UTF8_CUE = \"%s.utf8.cue\" % FILENAME_PREFIX"
   ]
  },
  {
   "cell_type": "code",
   "execution_count": null,
   "metadata": {
    "collapsed": true
   },
   "outputs": [],
   "source": [
    "import codecs\n",
    "from collections import defaultdict\n",
    "import re\n",
    "import subprocess\n",
    "import ConfigParser\n",
    "import os"
   ]
  },
  {
   "cell_type": "code",
   "execution_count": null,
   "metadata": {
    "collapsed": true
   },
   "outputs": [],
   "source": [
    "global_report = []\n",
    "\n",
    "NOT_PARSED = 1\n",
    "NO_TRACK = 2"
   ]
  },
  {
   "cell_type": "code",
   "execution_count": null,
   "metadata": {
    "collapsed": true
   },
   "outputs": [],
   "source": [
    "def utf8(data):\n",
    "    if type(data) == str:\n",
    "        return codecs.decode(data, \"utf8\")\n",
    "    elif type(data) == unicode:\n",
    "        return data\n",
    "    else:\n",
    "        return codecs.decode(str(data), \"utf8\")\n"
   ]
  },
  {
   "cell_type": "markdown",
   "metadata": {},
   "source": [
    "### Convert CUE to utf8"
   ]
  },
  {
   "cell_type": "code",
   "execution_count": null,
   "metadata": {
    "collapsed": false
   },
   "outputs": [],
   "source": [
    "cd $WORKING_DIR"
   ]
  },
  {
   "cell_type": "code",
   "execution_count": null,
   "metadata": {
    "collapsed": false
   },
   "outputs": [],
   "source": [
    "if not os.path.exists(UTF8_CUE):\n",
    "    with open(ANSI_CUE, \"r\") as fp:\n",
    "        ansi_content = fp.read()\n",
    "        with open(UTF8_CUE, \"w\") as fp2:\n",
    "            fp2.write(codecs.encode(\n",
    "                codecs.decode(ansi_content, ANSI_ENCODING),\n",
    "                \"utf-8\"))"
   ]
  },
  {
   "cell_type": "markdown",
   "metadata": {},
   "source": [
    "### Parse CUE"
   ]
  },
  {
   "cell_type": "code",
   "execution_count": null,
   "metadata": {
    "collapsed": false
   },
   "outputs": [],
   "source": [
    "def init_cue():\n",
    "    cue = defaultdict(str)\n",
    "    cue[\"tracks\"] = defaultdict(dict)\n",
    "    return cue"
   ]
  },
  {
   "cell_type": "code",
   "execution_count": null,
   "metadata": {
    "collapsed": true
   },
   "outputs": [],
   "source": [
    "def trim_quote(text):\n",
    "    if len(text) > 2 and text[0] == '\"' and text[-1] == '\"':\n",
    "        text = text[1:-1]\n",
    "    return text"
   ]
  },
  {
   "cell_type": "code",
   "execution_count": null,
   "metadata": {
    "collapsed": true
   },
   "outputs": [],
   "source": [
    "def cue_match_performer(line, cue_dict, track=None):\n",
    "    r = re.search('''PERFORMER\\s+(?P<performer>.+)$''', line)\n",
    "    if r:\n",
    "        performer = trim_quote(r.groupdict()[\"performer\"].strip())\n",
    "        if track is None:\n",
    "            cue_dict[\"albumartist\"] = codecs.decode(performer, \"utf8\")\n",
    "        else:\n",
    "            cue_dict[\"tracks\"][track][\"artist\"] = codecs.decode(performer, \"utf8\")\n",
    "        return True\n",
    "    return False"
   ]
  },
  {
   "cell_type": "code",
   "execution_count": null,
   "metadata": {
    "collapsed": true
   },
   "outputs": [],
   "source": [
    "def cue_match_title(line, cue_dict, track=None):\n",
    "    r = re.search('''TITLE\\s+(?P<title>.+)''', line)\n",
    "    if r:\n",
    "        title = trim_quote(r.groupdict()[\"title\"].strip())\n",
    "        if track is None:\n",
    "            cue_dict[\"album\"] = codecs.decode(title, \"utf8\")\n",
    "        else:\n",
    "            cue_dict[\"tracks\"][track][\"title\"] = codecs.decode(title, \"utf8\")\n",
    "        return True\n",
    "    return False"
   ]
  },
  {
   "cell_type": "code",
   "execution_count": null,
   "metadata": {
    "collapsed": true
   },
   "outputs": [],
   "source": [
    "def cue_match_file(line, cue_dict, track=None):\n",
    "    r = re.search('''FILE\\s+(?P<file>.+)\\s+\\w+''', line)\n",
    "    if r:\n",
    "        title = trim_quote(r.groupdict()[\"file\"].strip())\n",
    "        if track is None:\n",
    "            cue_dict[\"original_file\"] = codecs.decode(title, \"utf8\")\n",
    "        else:\n",
    "            cue_dict[\"tracks\"][track][\"original_file\"] = codecs.decode(title, \"utf8\")\n",
    "        return True\n",
    "    return False"
   ]
  },
  {
   "cell_type": "code",
   "execution_count": null,
   "metadata": {
    "collapsed": true
   },
   "outputs": [],
   "source": [
    "def cue_match_track(line, cue_dict, track=None):\n",
    "    r = re.search('''TRACK\\s+(?P<track_num>\\d+)\\s+AUDIO''', line)\n",
    "    if r:\n",
    "        return True\n",
    "    return False"
   ]
  },
  {
   "cell_type": "code",
   "execution_count": null,
   "metadata": {
    "collapsed": true
   },
   "outputs": [],
   "source": [
    "def cue_match_index(line, cue_dict, track=None):\n",
    "    r = re.search('''INDEX\\s+(?P<index_num>\\d+)\\s+(?P<timing>.+)''', line)\n",
    "    if r:\n",
    "        index_num = trim_quote(r.groupdict()[\"index_num\"].strip())\n",
    "        timing = trim_quote(r.groupdict()[\"timing\"].strip())\n",
    "        if track is None:\n",
    "            global_report.append((NO_TRACK, line, \"No track for INDEX\"))\n",
    "        else:\n",
    "            cue_dict[\"tracks\"][track][\"index_%s\" % index_num] = codecs.decode(timing, \"utf8\")\n",
    "        return True\n",
    "    return False"
   ]
  },
  {
   "cell_type": "code",
   "execution_count": null,
   "metadata": {
    "collapsed": true
   },
   "outputs": [],
   "source": [
    "def cue_match_rem(line, cue_dict, track=None):\n",
    "    r = re.search('''REM\\s+(?P<rem_tag>.+)\\s+(?P<rem_value>.+)''', line)\n",
    "    if r:\n",
    "        rem_tag = trim_quote(r.groupdict()[\"rem_tag\"].strip())\n",
    "        rem_value = trim_quote(r.groupdict()[\"rem_value\"].strip())\n",
    "        \n",
    "        if track is None:\n",
    "            cue_dict[rem_tag] = codecs.decode(rem_value, \"utf8\")\n",
    "        else:\n",
    "            cue_dict[\"tracks\"][track][rem_tag] = codecs.decode(rem_value, \"utf8\")\n",
    "        return True\n",
    "    return False"
   ]
  },
  {
   "cell_type": "code",
   "execution_count": null,
   "metadata": {
    "collapsed": true
   },
   "outputs": [],
   "source": [
    "def cue_read_global(fp):\n",
    "    cue = init_cue()\n",
    "    current_track = None\n",
    "    for line in fp:\n",
    "        if cue_match_performer(line, cue, current_track): continue\n",
    "        if cue_match_title(line, cue, current_track): continue\n",
    "        if cue_match_file(line, cue, current_track): continue\n",
    "        if cue_match_index(line, cue, current_track): continue\n",
    "        if cue_match_rem(line, cue, current_track): continue\n",
    "        if cue_match_track(line, cue, current_track):\n",
    "            if current_track is None:\n",
    "                current_track = 0\n",
    "            current_track += 1\n",
    "            cue[\"tracks\"][current_track][\"tracknumber\"] = str(current_track)\n",
    "            continue\n",
    "        \n",
    "        global_report.append((NOT_PARSED, line, \"Unknown line\"))\n",
    "    if current_track > 0:\n",
    "        cue[\"tracktotal\"] = current_track\n",
    "    return cue, current_track"
   ]
  },
  {
   "cell_type": "code",
   "execution_count": null,
   "metadata": {
    "collapsed": true
   },
   "outputs": [],
   "source": [
    "def load_extra_info(cue, config_file):\n",
    "    config = ConfigParser.ConfigParser()\n",
    "    try:\n",
    "        config.readfp(open(config_file))\n",
    "    except:\n",
    "        return\n",
    "    \n",
    "    if config.has_section(\"default\"):\n",
    "        for item in config.items(\"default\"):\n",
    "            if item[0] not in cue:\n",
    "                cue[item[0]] = item[1]\n",
    "    \n",
    "    if config.has_section(\"overwrite\"):\n",
    "        for item in config.items(\"overwrite\"):\n",
    "            cue[item[0]] = item[1]"
   ]
  },
  {
   "cell_type": "markdown",
   "metadata": {},
   "source": [
    "### Covert Files"
   ]
  },
  {
   "cell_type": "code",
   "execution_count": null,
   "metadata": {
    "collapsed": false
   },
   "outputs": [],
   "source": [
    "fp = open(UTF8_CUE, \"r\")\n",
    "cue, num_tracks = cue_read_global(fp)\n",
    "load_extra_info(cue, EXTRA_DATA_FILE)\n",
    "fp.close()"
   ]
  },
  {
   "cell_type": "code",
   "execution_count": null,
   "metadata": {
    "collapsed": false
   },
   "outputs": [],
   "source": [
    "cd $WORKING_DIR"
   ]
  },
  {
   "cell_type": "code",
   "execution_count": null,
   "metadata": {
    "collapsed": false
   },
   "outputs": [],
   "source": [
    "rm __*.wav"
   ]
  },
  {
   "cell_type": "code",
   "execution_count": null,
   "metadata": {
    "collapsed": false,
    "scrolled": true
   },
   "outputs": [],
   "source": [
    "!ffmpeg -y -i \"$INPUT_FILE\" \"__temp.wav\""
   ]
  },
  {
   "cell_type": "code",
   "execution_count": null,
   "metadata": {
    "collapsed": false,
    "scrolled": true
   },
   "outputs": [],
   "source": [
    "!bchunk -w \"__temp.wav\" \"$UTF8_CUE\" \"__tracks\""
   ]
  },
  {
   "cell_type": "code",
   "execution_count": null,
   "metadata": {
    "collapsed": false
   },
   "outputs": [],
   "source": [
    "!mkdir \"$OUTPUT_PREFIX\""
   ]
  },
  {
   "cell_type": "code",
   "execution_count": null,
   "metadata": {
    "collapsed": true
   },
   "outputs": [],
   "source": [
    "def tmp_track(id):\n",
    "    return \"__tracks%s.wav\" % str(id).zfill(2)"
   ]
  },
  {
   "cell_type": "code",
   "execution_count": null,
   "metadata": {
    "collapsed": true
   },
   "outputs": [],
   "source": [
    "def filename_safe(filename):\n",
    "    for ch in '<>\"?*\\\\/:':\n",
    "        filename = filename.replace(ch, \"_\")\n",
    "    return filename.strip()"
   ]
  },
  {
   "cell_type": "code",
   "execution_count": null,
   "metadata": {
    "collapsed": true
   },
   "outputs": [],
   "source": [
    "def filename_format(cue, track):\n",
    "    if \"title\" not in cue[\"tracks\"][track]:\n",
    "        raise ValueError\n",
    "    filename = cue[\"tracks\"][track][\"title\"]\n",
    "    if \"tracknumber\" in cue[\"tracks\"][track]:\n",
    "        filename = \"%s %s\" % (cue[\"tracks\"][track][\"tracknumber\"].zfill(2), filename)\n",
    "    if \"discnumber\" in cue:\n",
    "        filename = \"%s-%s\" % (cue[\"discnumber\"], filename)\n",
    "    return filename"
   ]
  },
  {
   "cell_type": "code",
   "execution_count": null,
   "metadata": {
    "collapsed": false
   },
   "outputs": [],
   "source": [
    "folder = \"%s%s\" % (OUTPUT_PREFIX, filename_safe(\"%s\" % cue[\"album\"]))\n",
    "if DELETE_TARGET_DIR:\n",
    "    !rm -r \"$folder\"\n",
    "    pass\n",
    "!mkdir -p \"$folder\"\n",
    "\n",
    "if PICTURE is not None:\n",
    "    !cp \"$PICTURE\" \"$folder\"\n",
    "\n",
    "for i in range(1, num_tracks + 1):\n",
    "    track_cue = cue[\"tracks\"][i]\n",
    "    cmd = [\n",
    "        u\"flac\",\n",
    "        u\"--best\"\n",
    "    ]\n",
    "    if PICTURE is not None:\n",
    "        cmd.append(u'--picture=\"%s\"' % utf8(PICTURE))\n",
    "    for key, value in cue[\"tracks\"][i].items():\n",
    "        cmd.append(u'--tag=\"%s\"=\"%s\"' % (key, utf8(value)))\n",
    "    for key in cue:\n",
    "        if key == \"tracks\": continue\n",
    "        if key in cue[\"tracks\"][i]: continue\n",
    "        cmd.append(u'--tag=\"%s\"=\"%s\"' % (key, utf8(cue[key])))\n",
    "    filename = filename_safe(\"%s.flac\" % filename_format(cue, i))\n",
    "    cmd.append(u'-o \"%s/%s\"' % (folder, filename))\n",
    "    cmd.append(u'\"%s\"' % tmp_track(i))\n",
    "    print(\"Running the track #%d\" % i)\n",
    "    cmdline = ' '.join(cmd)\n",
    "    print(cmdline)\n",
    "    print(subprocess.check_output(\n",
    "            cmdline, \n",
    "            shell=True,\n",
    "            stderr=subprocess.STDOUT))"
   ]
  },
  {
   "cell_type": "code",
   "execution_count": null,
   "metadata": {
    "collapsed": true
   },
   "outputs": [],
   "source": [
    "for f in FILES_TO_COPY:\n",
    "    !cp \"$f\" \"$folder\""
   ]
  },
  {
   "cell_type": "code",
   "execution_count": null,
   "metadata": {
    "collapsed": false
   },
   "outputs": [],
   "source": [
    "!rm __*.wav"
   ]
  },
  {
   "cell_type": "markdown",
   "metadata": {},
   "source": [
    "### *playground*"
   ]
  },
  {
   "cell_type": "code",
   "execution_count": null,
   "metadata": {
    "collapsed": false
   },
   "outputs": [],
   "source": [
    "print(global_report)"
   ]
  },
  {
   "cell_type": "code",
   "execution_count": null,
   "metadata": {
    "collapsed": false
   },
   "outputs": [],
   "source": [
    "config_file = EXTRA_DATA_FILE\n",
    "config = ConfigParser.ConfigParser()\n",
    "try:\n",
    "    config.readfp(open(config_file))\n",
    "except:\n",
    "    pass"
   ]
  },
  {
   "cell_type": "code",
   "execution_count": null,
   "metadata": {
    "collapsed": false
   },
   "outputs": [],
   "source": [
    "config.get(\"default\")"
   ]
  }
 ],
 "metadata": {
  "kernelspec": {
   "display_name": "Python 2",
   "language": "python",
   "name": "python2"
  },
  "language_info": {
   "codemirror_mode": {
    "name": "ipython",
    "version": 2
   },
   "file_extension": ".py",
   "mimetype": "text/x-python",
   "name": "python",
   "nbconvert_exporter": "python",
   "pygments_lexer": "ipython2",
   "version": "2.7.6"
  }
 },
 "nbformat": 4,
 "nbformat_minor": 0
}
