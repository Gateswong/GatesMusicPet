{
 "cells": [
  {
   "cell_type": "code",
   "execution_count": null,
   "metadata": {
    "collapsed": true
   },
   "outputs": [],
   "source": [
    "WORKING_DIR = u\"/path/to/your/folder/contains/music\"  # no '/' as end is ok\n",
    "FILENAME_PREFIX = u\"your_music_file_name_without_ext\"\n",
    "\n",
    "OUTPUT_PREFIX = u\"/path/to/your/music/output/files\"  # ends with '/'\n",
    "\n",
    "PICTURE = u\"Front.jpg\"\n",
    "ANSI_ENCODING = \"gbk\"\n",
    "\n",
    "FILES_TO_COPY = [\"Booklet.zip\"]\n",
    "\n",
    "DELETE_TARGET_DIR = False  # If clean the target folder at first\n",
    "\n",
    "EXTRA_DATA_FILE = u\"%s.ini\" % FILENAME_PREFIX\n",
    "INPUT_FILE = u\"%s.flac\" % FILENAME_PREFIX\n",
    "ANSI_CUE = u\"%s.cue\" % FILENAME_PREFIX\n",
    "UTF8_CUE = u\"%s.utf8.cue\" % FILENAME_PREFIX"
   ]
  },
  {
   "cell_type": "code",
   "execution_count": null,
   "metadata": {
    "collapsed": false
   },
   "outputs": [],
   "source": [
    "import codecs\n",
    "from collections import defaultdict\n",
    "import re\n",
    "import subprocess\n",
    "import ConfigParser\n",
    "import os, sys"
   ]
  },
  {
   "cell_type": "code",
   "execution_count": null,
   "metadata": {
    "collapsed": true
   },
   "outputs": [],
   "source": [
    "sys.path.append(\"/path/to/your/repository/of/GatesMusicPet/\")\n",
    "from music_pet import utils\n",
    "from music_pet import meta"
   ]
  },
  {
   "cell_type": "code",
   "execution_count": null,
   "metadata": {
    "collapsed": true
   },
   "outputs": [],
   "source": [
    "global_report = []\n",
    "\n",
    "NOT_PARSED = 1\n",
    "NO_TRACK = 2"
   ]
  },
  {
   "cell_type": "code",
   "execution_count": null,
   "metadata": {
    "collapsed": true
   },
   "outputs": [],
   "source": [
    "def utf8(data):\n",
    "    if type(data) == str:\n",
    "        return codecs.decode(data, \"utf8\")\n",
    "    elif type(data) == unicode:\n",
    "        return data\n",
    "    else:\n",
    "        return codecs.decode(str(data), \"utf8\")\n"
   ]
  },
  {
   "cell_type": "markdown",
   "metadata": {},
   "source": [
    "### Convert CUE to utf8"
   ]
  },
  {
   "cell_type": "code",
   "execution_count": null,
   "metadata": {
    "collapsed": false
   },
   "outputs": [],
   "source": [
    "cd $WORKING_DIR"
   ]
  },
  {
   "cell_type": "code",
   "execution_count": null,
   "metadata": {
    "collapsed": false
   },
   "outputs": [],
   "source": [
    "try:\n",
    "    utils.remove_bom(ANSI_CUE, UTF8_CUE)\n",
    "except ValueError as ex:\n",
    "    print(ex)"
   ]
  },
  {
   "cell_type": "code",
   "execution_count": null,
   "metadata": {
    "collapsed": false
   },
   "outputs": [],
   "source": [
    "if not os.path.exists(UTF8_CUE):\n",
    "    with open(ANSI_CUE, \"r\") as fp:\n",
    "        ansi_content = fp.read()\n",
    "        with open(UTF8_CUE, \"w\") as fp2:\n",
    "            fp2.write(codecs.encode(\n",
    "                codecs.decode(ansi_content, ANSI_ENCODING),\n",
    "                \"utf-8\"))"
   ]
  },
  {
   "cell_type": "markdown",
   "metadata": {},
   "source": [
    "### Parse CUE"
   ]
  },
  {
   "cell_type": "code",
   "execution_count": null,
   "metadata": {
    "collapsed": true
   },
   "outputs": [],
   "source": [
    "cue = meta.CUE(UTF8_CUE)"
   ]
  },
  {
   "cell_type": "code",
   "execution_count": null,
   "metadata": {
    "collapsed": false
   },
   "outputs": [],
   "source": [
    "try:\n",
    "    extra_info = meta.ExtraInfo(EXTRA_DATA_FILE)\n",
    "    extra_info.update_meta(cue.meta)\n",
    "except Exception as ex:\n",
    "    print(ex)"
   ]
  },
  {
   "cell_type": "code",
   "execution_count": null,
   "metadata": {
    "collapsed": false,
    "scrolled": false
   },
   "outputs": [],
   "source": [
    "print(cue.details())"
   ]
  },
  {
   "cell_type": "markdown",
   "metadata": {},
   "source": [
    "### Covert Files"
   ]
  },
  {
   "cell_type": "code",
   "execution_count": null,
   "metadata": {
    "collapsed": false
   },
   "outputs": [],
   "source": [
    "cd $WORKING_DIR"
   ]
  },
  {
   "cell_type": "code",
   "execution_count": null,
   "metadata": {
    "collapsed": false,
    "scrolled": true
   },
   "outputs": [],
   "source": [
    "rm __*.wav"
   ]
  },
  {
   "cell_type": "code",
   "execution_count": null,
   "metadata": {
    "collapsed": false,
    "scrolled": true
   },
   "outputs": [],
   "source": [
    "!ffmpeg -y -i \"$INPUT_FILE\" \"__temp.wav\""
   ]
  },
  {
   "cell_type": "code",
   "execution_count": null,
   "metadata": {
    "collapsed": false
   },
   "outputs": [],
   "source": [
    "!mkdir \"$OUTPUT_PREFIX\""
   ]
  },
  {
   "cell_type": "code",
   "execution_count": null,
   "metadata": {
    "collapsed": true
   },
   "outputs": [],
   "source": [
    "def filename_safe(filename):\n",
    "    for ch in '<>\"?*\\\\/:':\n",
    "        filename = filename.replace(ch, \"_\")\n",
    "    return filename.strip()"
   ]
  },
  {
   "cell_type": "code",
   "execution_count": null,
   "metadata": {
    "collapsed": true
   },
   "outputs": [],
   "source": [
    "def filename_format(meta, track_num):\n",
    "    if u\"title\" not in meta[unicode(track_num)]:\n",
    "        raise ValueError\n",
    "\n",
    "    filename = meta[unicode(track_num)][u\"title\"]\n",
    "    if u\"tracknumber\" in meta[unicode(track_num)]:\n",
    "        filename = u\"%s %s\" % (meta[unicode(track_num)][u\"tracknumber\"].zfill(2), filename)\n",
    "    if u\"discnumber\" in meta[u\"0\"]:\n",
    "        filename = u\"%s-%s\" % (meta[u\"0\"][u\"discnumber\"], filename)\n",
    "    return filename"
   ]
  },
  {
   "cell_type": "code",
   "execution_count": null,
   "metadata": {
    "collapsed": false
   },
   "outputs": [],
   "source": [
    "folder = u\"%s%s\" % (OUTPUT_PREFIX, filename_safe(\"%s\" % utf8(cue.meta[u\"0\"][\"album\"])))\n",
    "if DELETE_TARGET_DIR:\n",
    "    !rm -r \"$folder\"\n",
    "    pass\n",
    "!mkdir -p \"$folder\"\n",
    "\n",
    "if PICTURE is not None:\n",
    "    !cp \"$PICTURE\" \"$folder\""
   ]
  },
  {
   "cell_type": "code",
   "execution_count": null,
   "metadata": {
    "collapsed": true
   },
   "outputs": [],
   "source": [
    "def cue_index_to_flac_time(text):\n",
    "    r = re.search(u'''(\\d+:\\d{2}):(\\d{2})''', text)\n",
    "    if r:\n",
    "        return u\"%s.%s\" % (r.groups()[0], r.groups()[1])\n",
    "    return None"
   ]
  },
  {
   "cell_type": "code",
   "execution_count": null,
   "metadata": {
    "collapsed": false
   },
   "outputs": [],
   "source": [
    "for track_num in xrange(1, 1 + int(cue.meta[u\"0\"][u\"tracktotal\"])):\n",
    "    cmd = [\n",
    "        u\"flac\",\n",
    "        u\"--best\"\n",
    "    ]\n",
    "    \n",
    "    # Calculate time\n",
    "    if track_num > 1:\n",
    "        cmd.append(u'--skip=%s' % cue_index_to_flac_time(cue.meta[unicode(track_num)][\"index_01\"]))\n",
    "    if track_num < int(cue.meta[u\"0\"][u\"tracktotal\"]):\n",
    "        cmd.append(u'--until=%s' % cue_index_to_flac_time(cue.meta[unicode(track_num + 1)][\"index_01\"]))\n",
    "    \n",
    "    if PICTURE is not None:\n",
    "        cmd.append(u'--picture=\"%s\"' % utils.to_unicode(PICTURE))\n",
    "    \n",
    "    # appending tags\n",
    "    for key, value in cue.meta[unicode(track_num)].items():\n",
    "        cmd.append(u'--tag=\"%s\"=\"%s\"' % (key, value))\n",
    "    for key, value in cue.meta[u\"0\"].items():\n",
    "        if key not in cue.meta[unicode(track_num)]:\n",
    "            cmd.append(u'--tag=\"%s\"=\"%s\"' % (key, value))\n",
    "    \n",
    "    filename = filename_safe(\"%s.flac\" % filename_format(cue.meta, track_num))\n",
    "    cmd.append(u'-o \"%s/%s\"' % (folder, filename))\n",
    "    cmd.append(u'\"__temp.wav\"')\n",
    "    \n",
    "    print(\"===Encoding Track %d===\" % track_num)\n",
    "    \n",
    "    cmdline = \" \".join(cmd)\n",
    "    print(cmdline)\n",
    "    print(subprocess.check_output(cmdline,\n",
    "                                  shell=True,\n",
    "                                  stderr=subprocess.STDOUT))"
   ]
  },
  {
   "cell_type": "code",
   "execution_count": null,
   "metadata": {
    "collapsed": false
   },
   "outputs": [],
   "source": [
    "for f in FILES_TO_COPY:\n",
    "    !cp \"$f\" \"$folder\""
   ]
  },
  {
   "cell_type": "code",
   "execution_count": null,
   "metadata": {
    "collapsed": false
   },
   "outputs": [],
   "source": [
    "!rm __*.wav"
   ]
  },
  {
   "cell_type": "markdown",
   "metadata": {},
   "source": [
    "### *playground*"
   ]
  }
 ],
 "metadata": {
  "kernelspec": {
   "display_name": "Python 2",
   "language": "python",
   "name": "python2"
  },
  "language_info": {
   "codemirror_mode": {
    "name": "ipython",
    "version": 2
   },
   "file_extension": ".py",
   "mimetype": "text/x-python",
   "name": "python",
   "nbconvert_exporter": "python",
   "pygments_lexer": "ipython2",
   "version": "2.7.6"
  }
 },
 "nbformat": 4,
 "nbformat_minor": 0
}
