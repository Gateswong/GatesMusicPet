{
 "cells": [
  {
   "cell_type": "markdown",
   "metadata": {},
   "source": [
    "**Working Dir**: It's supposed that your commands are run under this folder."
   ]
  },
  {
   "cell_type": "code",
   "execution_count": null,
   "metadata": {
    "collapsed": false
   },
   "outputs": [],
   "source": [
    "WORKING_DIR = u\"/path/to/folder/to/music\""
   ]
  },
  {
   "cell_type": "markdown",
   "metadata": {},
   "source": [
    "**Filename**: This is the filename prefix. For example, if your files are `CDImage.wav`, `CDImage.cue`, set `FILENAME_PREFIX` to `CDImage`.\n",
    "\n",
    "**Filename Extension**: It's the extension part of your audio file. If your audio file is `CDImage.wav`, set `FILENAME_EXTENSION` to `wav`."
   ]
  },
  {
   "cell_type": "code",
   "execution_count": null,
   "metadata": {
    "collapsed": true
   },
   "outputs": [],
   "source": [
    "FILENAME_PREFIX = u\"filename_without_ext\"\n",
    "FILENAME_EXTENSION = u\"wav\""
   ]
  },
  {
   "cell_type": "markdown",
   "metadata": {},
   "source": [
    "** Output Prefix**: The output files will be saved to here."
   ]
  },
  {
   "cell_type": "code",
   "execution_count": null,
   "metadata": {
    "collapsed": true
   },
   "outputs": [],
   "source": [
    "OUTPUT_PATTERN = u\"/path/to/your/music/<%(prefix)s >%(album)s< (%(suffix)s)>/<<%(discnumber)s->%(tracknumber)s >%(title)s.flac\""
   ]
  },
  {
   "cell_type": "markdown",
   "metadata": {},
   "source": [
    "**Others**: If you have cover picture, set `PICTURE` to that filename.\n",
    "If your cue is not utf-8 encoded, set `ANSI_ENCODING` to the encoding of your cue sheet file.\n",
    "At the end of conversion, all files defined in `FILES_TO_COPY` will be simply copied to the output position."
   ]
  },
  {
   "cell_type": "code",
   "execution_count": null,
   "metadata": {
    "collapsed": false
   },
   "outputs": [],
   "source": [
    "PICTURE = u\"Folder.jpg\"\n",
    "ANSI_ENCODING = \"gbk\"\n",
    "FILES_TO_COPY = [\"Artworks.tar\"]\n",
    "\n",
    "DELETE_TARGET_DIR = False  # If clean the target folder at first\n",
    "\n",
    "INPUT_EXTRAINFO = u\"%s.ini\" % FILENAME_PREFIX\n",
    "INPUT_CUE = u\"%s.cue\" % FILENAME_PREFIX\n",
    "INPUT_AUDIO = u\"%s.%s\" % (FILENAME_PREFIX, FILENAME_EXTENSION)"
   ]
  },
  {
   "cell_type": "code",
   "execution_count": null,
   "metadata": {
    "collapsed": true
   },
   "outputs": [],
   "source": [
    "import sys\n",
    "sys.path.append(u\"/path/to/your/GatesMusicPet/\")"
   ]
  },
  {
   "cell_type": "code",
   "execution_count": null,
   "metadata": {
    "collapsed": false
   },
   "outputs": [],
   "source": [
    "from music_pet.meta import *\n",
    "from music_pet.utils import *\n",
    "from music_pet.audio import FLAC, init_flacs\n",
    "\n",
    "import subprocess\n",
    "import os, sys"
   ]
  },
  {
   "cell_type": "code",
   "execution_count": null,
   "metadata": {
    "collapsed": false
   },
   "outputs": [],
   "source": [
    "cd $WORKING_DIR"
   ]
  },
  {
   "cell_type": "code",
   "execution_count": null,
   "metadata": {
    "collapsed": true
   },
   "outputs": [],
   "source": [
    "global_report = []\n",
    "\n",
    "NOT_PARSED = 1\n",
    "NO_TRACK = 2"
   ]
  },
  {
   "cell_type": "markdown",
   "metadata": {},
   "source": [
    "### Parse CUE"
   ]
  },
  {
   "cell_type": "code",
   "execution_count": null,
   "metadata": {
    "collapsed": false,
    "scrolled": true
   },
   "outputs": [],
   "source": [
    "albumList = parse_cue(INPUT_CUE, encoding=\"U8\")"
   ]
  },
  {
   "cell_type": "code",
   "execution_count": null,
   "metadata": {
    "collapsed": false
   },
   "outputs": [],
   "source": [
    "extraMetas = parse_ini(INPUT_EXTRAINFO)"
   ]
  },
  {
   "cell_type": "code",
   "execution_count": null,
   "metadata": {
    "collapsed": false
   },
   "outputs": [],
   "source": [
    "for album in albumList.values():\n",
    "    for extraMeta in extraMetas:\n",
    "        album.update_all_tracks(extraMeta)"
   ]
  },
  {
   "cell_type": "code",
   "execution_count": null,
   "metadata": {
    "collapsed": true
   },
   "outputs": [],
   "source": [
    "albumList.fix_album_names()"
   ]
  },
  {
   "cell_type": "code",
   "execution_count": null,
   "metadata": {
    "collapsed": true
   },
   "outputs": [],
   "source": [
    "flacs = []"
   ]
  },
  {
   "cell_type": "code",
   "execution_count": null,
   "metadata": {
    "collapsed": false,
    "scrolled": true
   },
   "outputs": [],
   "source": [
    "for album in albumList.values():\n",
    "    flacs = init_flacs(album, OUTPUT_PATTERN)\n",
    "    for flac in flacs:\n",
    "        flac.set_input_file(u\"%s/%s\" % (\n",
    "                WORKING_DIR, filename_safe(flac.get_tag(u\"original_file\"))))\n",
    "        flac.set_next_start_time_from_album(album)\n",
    "        flac.cover_picture = PICTURE\n",
    "    for l in album.detail():\n",
    "        print(l)"
   ]
  },
  {
   "cell_type": "code",
   "execution_count": null,
   "metadata": {
    "collapsed": false,
    "scrolled": true
   },
   "outputs": [],
   "source": [
    "commands = []\n",
    "tmpified_files = {}\n",
    "\n",
    "for flac in flacs:\n",
    "    b_is_wav = flac.get_tag(u\"@input_fullpath\").endswith(u\".wav\") \n",
    "    b_tempified = flac.get_tag(u\"@input_fullpath\") in tmpified_files\n",
    "    if not b_is_wav and not b_tempified:\n",
    "        commands.append(flac.command_build_tempwav(memoize=tmpified_files))\n",
    "    commands.append(flac.command())\n",
    "    commands.append(command_copy_to([PICTURE] + FILES_TO_COPY, parent_folder(flac.get_tag(u\"@output_fullpath\"))))\n",
    "    if not b_is_wav and not b_tempified:\n",
    "        commands.append(flac.command_clear_tempwav())\n",
    "    flac.create_target_dir()\n",
    "    \n",
    "for cmd in commands:\n",
    "    print(cmd)\n",
    "    print(u\"\")"
   ]
  },
  {
   "cell_type": "markdown",
   "metadata": {},
   "source": [
    "\n",
    "### Covert Files"
   ]
  },
  {
   "cell_type": "code",
   "execution_count": null,
   "metadata": {
    "collapsed": false,
    "scrolled": true
   },
   "outputs": [],
   "source": [
    "cd $WORKING_DIR"
   ]
  },
  {
   "cell_type": "code",
   "execution_count": null,
   "metadata": {
    "collapsed": false,
    "scrolled": true
   },
   "outputs": [],
   "source": [
    "for cmd in commands:\n",
    "    print(u\"Executing:\\n%s\\n\\n\" % cmd)\n",
    "    try:\n",
    "        p = subprocess.check_output(cmd,\n",
    "                                    shell=True,\n",
    "                                    )\n",
    "    except subprocess.CalledProcessError as ex:\n",
    "        p = u\"Process received an error! code=%s, output=%s\" % (ex.returncode, ex.output)\n",
    "        global_report.append((3, u\"Process Error, code=%s\" % ex.returncode, cmd))\n",
    "    print(p)\n",
    "    print(u\"\\n\\n\")"
   ]
  },
  {
   "cell_type": "code",
   "execution_count": null,
   "metadata": {
    "collapsed": false,
    "scrolled": true
   },
   "outputs": [],
   "source": [
    "for error in global_report:\n",
    "    print(u\"%s\\n%s\\n\\n\" % (error[1], error[2]))"
   ]
  },
  {
   "cell_type": "markdown",
   "metadata": {},
   "source": [
    "### *playground*"
   ]
  }
 ],
 "metadata": {
  "kernelspec": {
   "display_name": "Python 2",
   "language": "python",
   "name": "python2"
  },
  "language_info": {
   "codemirror_mode": {
    "name": "ipython",
    "version": 2
   },
   "file_extension": ".py",
   "mimetype": "text/x-python",
   "name": "python",
   "nbconvert_exporter": "python",
   "pygments_lexer": "ipython2",
   "version": "2.7.6"
  }
 },
 "nbformat": 4,
 "nbformat_minor": 0
}
