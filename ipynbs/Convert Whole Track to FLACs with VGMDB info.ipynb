{
 "cells": [
  {
   "cell_type": "code",
   "execution_count": null,
   "metadata": {
    "collapsed": true
   },
   "outputs": [],
   "source": [
    "from music_pet import meta\n",
    "from music_pet.services import vgmdb\n",
    "from music_pet.audio import flac\n",
    "import glob\n",
    "import os\n",
    "import sys\n",
    "import subprocess"
   ]
  },
  {
   "cell_type": "markdown",
   "metadata": {},
   "source": [
    "### Load Files"
   ]
  },
  {
   "cell_type": "code",
   "execution_count": null,
   "metadata": {
    "collapsed": true
   },
   "outputs": [],
   "source": [
    "WORKING_DIR = u'''/path/to/your/album'''"
   ]
  },
  {
   "cell_type": "code",
   "execution_count": null,
   "metadata": {
    "collapsed": true
   },
   "outputs": [],
   "source": [
    "INPUT_FILE = u'''CDImage.tta'''\n",
    "CUE_FILE = u'''CDImage.cue'''\n",
    "INI_FILE = u'''CDImage.ini'''"
   ]
  },
  {
   "cell_type": "code",
   "execution_count": null,
   "metadata": {
    "collapsed": true
   },
   "outputs": [],
   "source": [
    "OUTPUT_PATTERN = u\"/path/to/your/music/<%(prefix)s >%(album)s< (%(suffix)s)>/<<%(discnumber)s->%(tracknumber)s >%(title)s.flac\""
   ]
  },
  {
   "cell_type": "code",
   "execution_count": null,
   "metadata": {
    "collapsed": false
   },
   "outputs": [],
   "source": [
    "os.chdir(WORKING_DIR)\n",
    "!pwd"
   ]
  },
  {
   "cell_type": "code",
   "execution_count": null,
   "metadata": {
    "collapsed": false
   },
   "outputs": [],
   "source": [
    "album_list = meta.parse_cue(CUE_FILE)\n",
    "album = album_list.values()[0]\n",
    "print(album)"
   ]
  },
  {
   "cell_type": "markdown",
   "metadata": {},
   "source": [
    "### Load album info from VGMDB"
   ]
  },
  {
   "cell_type": "code",
   "execution_count": null,
   "metadata": {
    "collapsed": false,
    "scrolled": true
   },
   "outputs": [],
   "source": [
    "album_info = vgmdb.get_album(10000000)  # get_album(id) id is the number on vgmdb detail page's url\n",
    "print(album_info)"
   ]
  },
  {
   "cell_type": "code",
   "execution_count": null,
   "metadata": {
    "collapsed": false
   },
   "outputs": [],
   "source": [
    "vgmdb.update_album(album_info, album, lang=u\"Japanese\")\n",
    "print(album)"
   ]
  },
  {
   "cell_type": "markdown",
   "metadata": {},
   "source": [
    "### Load album info from Extra Info file"
   ]
  },
  {
   "cell_type": "code",
   "execution_count": null,
   "metadata": {
    "collapsed": true
   },
   "outputs": [],
   "source": [
    "extra_metas = meta.parse_ini(INI_FILE)"
   ]
  },
  {
   "cell_type": "code",
   "execution_count": null,
   "metadata": {
    "collapsed": true
   },
   "outputs": [],
   "source": [
    "for extra_meta in extra_metas:\n",
    "    album.update_all_tracks(extra_meta)"
   ]
  },
  {
   "cell_type": "markdown",
   "metadata": {},
   "source": [
    "### Before Convert"
   ]
  },
  {
   "cell_type": "code",
   "execution_count": null,
   "metadata": {
    "collapsed": false
   },
   "outputs": [],
   "source": [
    "print(str(album.detail()).decode(\"unicode_escape\"))"
   ]
  },
  {
   "cell_type": "markdown",
   "metadata": {},
   "source": [
    "### Convert"
   ]
  },
  {
   "cell_type": "code",
   "execution_count": null,
   "metadata": {
    "collapsed": true
   },
   "outputs": [],
   "source": [
    "flacs = flac.init_flacs(album, OUTPUT_PATTERN)"
   ]
  },
  {
   "cell_type": "code",
   "execution_count": null,
   "metadata": {
    "collapsed": true
   },
   "outputs": [],
   "source": [
    "PRE_COMMANDS = set()\n",
    "CONV_COMMANDS = []\n",
    "POST_COMMANDS = set()\n",
    "TEMPWAV_MEMOIZE = {}"
   ]
  },
  {
   "cell_type": "code",
   "execution_count": null,
   "metadata": {
    "collapsed": false
   },
   "outputs": [],
   "source": [
    "for fl in flacs:\n",
    "    fl.create_target_dir()\n",
    "    fl.metadata.cover_picture = u\"Front.jpg\"\n",
    "    if not fl.has_tag(u\"@input_fullpath\"):\n",
    "        fl.set_input_file(fl.get_tag(u\"original_file\"))\n",
    "    PRE_COMMANDS.add(fl.command_build_tempwav(memoize=TEMPWAV_MEMOIZE))\n",
    "    POST_COMMANDS.add(fl.command_clear_tempwav())\n",
    "    CONV_COMMANDS.append(fl.command())"
   ]
  },
  {
   "cell_type": "code",
   "execution_count": null,
   "metadata": {
    "collapsed": false
   },
   "outputs": [],
   "source": [
    "global_report = []\n",
    "for cmd in PRE_COMMANDS:\n",
    "    print(u\"Executing:\\n%s\\n\\n\" % cmd)\n",
    "    try:\n",
    "        p = subprocess.check_output(cmd,\n",
    "                                    shell=True,\n",
    "                                    )\n",
    "    except subprocess.CalledProcessError as ex:\n",
    "        p = u\"Process received an error! code=%s, output=%s\" % (ex.returncode, ex.output)\n",
    "        global_report.append((3, u\"Process Error, code=%s\" % ex.returncode, cmd))\n",
    "    print(p)\n",
    "    print(u\"\\n\\n\")\n",
    "    \n",
    "for cmd in CONV_COMMANDS:\n",
    "    print(u\"Executing:\\n%s\\n\\n\" % cmd)\n",
    "    try:\n",
    "        p = subprocess.check_output(cmd,\n",
    "                                    shell=True,\n",
    "                                    )\n",
    "    except subprocess.CalledProcessError as ex:\n",
    "        p = u\"Process received an error! code=%s, output=%s\" % (ex.returncode, ex.output)\n",
    "        global_report.append((3, u\"Process Error, code=%s\" % ex.returncode, cmd))\n",
    "    print(p)\n",
    "    print(u\"\\n\\n\")\n",
    "    \n",
    "for cmd in POST_COMMANDS:\n",
    "    print(u\"Executing:\\n%s\\n\\n\" % cmd)\n",
    "    try:\n",
    "        p = subprocess.check_output(cmd,\n",
    "                                    shell=True,\n",
    "                                    )\n",
    "    except subprocess.CalledProcessError as ex:\n",
    "        p = u\"Process received an error! code=%s, output=%s\" % (ex.returncode, ex.output)\n",
    "        global_report.append((3, u\"Process Error, code=%s\" % ex.returncode, cmd))\n",
    "    print(p)\n",
    "    print(u\"\\n\\n\")"
   ]
  },
  {
   "cell_type": "code",
   "execution_count": null,
   "metadata": {
    "collapsed": false
   },
   "outputs": [],
   "source": [
    "flacs[0].metadata.totaltracks"
   ]
  },
  {
   "cell_type": "code",
   "execution_count": null,
   "metadata": {
    "collapsed": true
   },
   "outputs": [],
   "source": []
  },
  {
   "cell_type": "code",
   "execution_count": null,
   "metadata": {
    "collapsed": true
   },
   "outputs": [],
   "source": []
  },
  {
   "cell_type": "code",
   "execution_count": null,
   "metadata": {
    "collapsed": true
   },
   "outputs": [],
   "source": []
  }
 ],
 "metadata": {
  "kernelspec": {
   "display_name": "Python 2",
   "language": "python",
   "name": "python2"
  },
  "language_info": {
   "codemirror_mode": {
    "name": "ipython",
    "version": 2
   },
   "file_extension": ".py",
   "mimetype": "text/x-python",
   "name": "python",
   "nbconvert_exporter": "python",
   "pygments_lexer": "ipython2",
   "version": "2.7.6"
  }
 },
 "nbformat": 4,
 "nbformat_minor": 0
}
